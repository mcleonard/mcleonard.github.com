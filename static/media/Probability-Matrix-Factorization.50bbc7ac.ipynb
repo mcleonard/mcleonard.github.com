{
 "cells": [
  {
   "cell_type": "markdown",
   "metadata": {},
   "source": [
    "# Implementing Probabilistic Matrix Factorization in PyTorch\n",
    "\n",
    "I found myself wanting to learn more about models for recommendation systems. After a bit of digging, I found what appears to be one of the better options for [collaborative filtering](https://en.wikipedia.org/wiki/Collaborative_filtering) called Probabilistic Matrix Factorization (PMF). What really excited me about this particular model is that it is a pretty straightforward Bayesian model. Also, implementing it with PyTorch would be quite fun. I'll outline the idea of PMF in this post, you can read more [in the original paper](https://papers.nips.cc/paper/3208-probabilistic-matrix-factorization.pdf).\n",
    "\n",
    "We're going to use the MovieLens dataset [from here](https://grouplens.org/datasets/movielens/). This dataset has movie ratings from a number of different users. There are different sizes provided, but I'll use the smallest dataset to keep things simple. The dataset I'm using has a bit over 100,000 ratings from 610 users, for 9724 movies.\n",
    "\n",
    "With this model, we want to predict for our users which movies they'll like. We can do this by finding feature vectors for our users and movies. The vectors are learned from users' ratings and encode each users movie preferences as well as hidden information about the movies.\n",
    "\n",
    "We can use those feature vectors to compare users and movies. Users with similar feature vectors should have similar tastes in movies, so we can make recommendations that way. Movies with similar feature vectors should have similar qualities such as being in the same genre. Again, we can use these movie features to make recommendations because if movie A and movie B are similar, then a user who loves movie A should also love movie B. Finally, we can take the inner product of a user's feature vector and a movie's feature vector to calculate an estimated rating.\n",
    "\n",
    "![matrix factorization](https://i.imgur.com/JiQepKO.png)\n",
    "\n",
    "We start with a big matrix $R$ of movie ratings, with users as rows and movies as columns. Since users don't rate all movies, this is a pretty sparse matrix with a lot of missing values. What we can do is factor $R$ into two matrices $U$ and $V$ representing latent feature vectors for users and movies. With these latent features, we can compare users with each other, movies with each other, and predict ratings for movies users haven't seen.\n",
    "\n",
    "The big idea behind this paper is that we're going to treat the latent vectors as parameters in a Bayesian model. As a reminder, Bayes theorem:\n",
    "\n",
    "$$\n",
    "\\large P(\\theta \\mid D) \\propto P(D \\mid \\theta) P(\\theta)\n",
    "$$\n",
    "\n",
    "In our model we try to predict the rating matrix $R$ with $U$ and $V$\n",
    "\n",
    "$$\n",
    "\\large \\hat{R} = U^T V \n",
    "$$\n",
    "\n",
    "In our model we assume the ratings are drawn from a normal distribution with mean $\\hat{R}$. What's really cool is that we can place priors on our latent features. \n",
    "\n",
    "$$\n",
    "\\begin{align}\n",
    "R &\\sim \\mathrm{Normal}(U^T V, \\sigma^2) \\\\\n",
    "U &\\sim \\mathrm{Normal}(0, \\sigma_U^2) \\\\\n",
    "V &\\sim \\mathrm{Normal}(0, \\sigma_V^2)\n",
    "\\end{align}\n",
    "$$\n",
    "\n",
    "They also put priors on the parameters $\\sigma_U$ and $\\sigma_V$.\n",
    "\n",
    "$$\n",
    "\\begin{align}\n",
    "\\sigma_U &\\sim \\mathrm{Normal}(0, \\Theta_U^2) \\\\\n",
    "\\sigma_V &\\sim \\mathrm{Normal}(0, \\Theta_V^2)\n",
    "\\end{align}\n",
    "$$\n",
    "\n",
    "The authors of the paper go further and build a hierachical structure for the user vectors that takes into account users with low numbers of reviews.\n",
    "\n",
    "$$\n",
    "\\begin{align}\n",
    "U_i &= Y_i + \\frac{\\sum_k^M I_{ik} W_k}{\\sum_k^M I_{ik}} \\\\\n",
    "Y &\\sim \\mathrm{Normal}(0, \\sigma_U^2) \\\\\n",
    "W &\\sim \\mathrm{Normal}(0, \\sigma_W^2)\n",
    "\\end{align}\n",
    "$$\n",
    "\n",
    "With this model, we can maximize the posterior probability with respect to $U$, $V$, $\\sigma_U^2$, and $\\sigma_U^2$ (or $V$, $Y$, $W$, and $\\sigma_U^2$ for the hierarchical model). In effect this is just a linear model with fancy regularization.\n",
    "\n",
    "The authors also do things like converting the ratings to be between 0 and 1, then taking the sigmoid of $U^T V$. For empirical reasons."
   ]
  },
  {
   "cell_type": "code",
   "execution_count": 1,
   "metadata": {},
   "outputs": [],
   "source": [
    "import pandas as pd\n",
    "import torch"
   ]
  },
  {
   "cell_type": "markdown",
   "metadata": {},
   "source": [
    "First, going to load in and pre-process the data. The data comes in as a table of user IDs, movie IDs, and ratings. We need to pivot these columns to get our rating matrix."
   ]
  },
  {
   "cell_type": "code",
   "execution_count": 2,
   "metadata": {},
   "outputs": [],
   "source": [
    "ratings = pd.read_csv('ml-latest-small/ratings.csv')"
   ]
  },
  {
   "cell_type": "code",
   "execution_count": 3,
   "metadata": {},
   "outputs": [
    {
     "data": {
      "text/html": [
       "<div>\n",
       "<style scoped>\n",
       "    .dataframe tbody tr th:only-of-type {\n",
       "        vertical-align: middle;\n",
       "    }\n",
       "\n",
       "    .dataframe tbody tr th {\n",
       "        vertical-align: top;\n",
       "    }\n",
       "\n",
       "    .dataframe thead th {\n",
       "        text-align: right;\n",
       "    }\n",
       "</style>\n",
       "<table border=\"1\" class=\"dataframe\">\n",
       "  <thead>\n",
       "    <tr style=\"text-align: right;\">\n",
       "      <th></th>\n",
       "      <th>userId</th>\n",
       "      <th>movieId</th>\n",
       "      <th>rating</th>\n",
       "      <th>timestamp</th>\n",
       "    </tr>\n",
       "  </thead>\n",
       "  <tbody>\n",
       "    <tr>\n",
       "      <th>0</th>\n",
       "      <td>1</td>\n",
       "      <td>1</td>\n",
       "      <td>4.0</td>\n",
       "      <td>964982703</td>\n",
       "    </tr>\n",
       "    <tr>\n",
       "      <th>1</th>\n",
       "      <td>1</td>\n",
       "      <td>3</td>\n",
       "      <td>4.0</td>\n",
       "      <td>964981247</td>\n",
       "    </tr>\n",
       "    <tr>\n",
       "      <th>2</th>\n",
       "      <td>1</td>\n",
       "      <td>6</td>\n",
       "      <td>4.0</td>\n",
       "      <td>964982224</td>\n",
       "    </tr>\n",
       "    <tr>\n",
       "      <th>3</th>\n",
       "      <td>1</td>\n",
       "      <td>47</td>\n",
       "      <td>5.0</td>\n",
       "      <td>964983815</td>\n",
       "    </tr>\n",
       "    <tr>\n",
       "      <th>4</th>\n",
       "      <td>1</td>\n",
       "      <td>50</td>\n",
       "      <td>5.0</td>\n",
       "      <td>964982931</td>\n",
       "    </tr>\n",
       "  </tbody>\n",
       "</table>\n",
       "</div>"
      ],
      "text/plain": [
       "   userId  movieId  rating  timestamp\n",
       "0       1        1     4.0  964982703\n",
       "1       1        3     4.0  964981247\n",
       "2       1        6     4.0  964982224\n",
       "3       1       47     5.0  964983815\n",
       "4       1       50     5.0  964982931"
      ]
     },
     "execution_count": 3,
     "metadata": {},
     "output_type": "execute_result"
    }
   ],
   "source": [
    "ratings.head()"
   ]
  },
  {
   "cell_type": "code",
   "execution_count": 4,
   "metadata": {},
   "outputs": [],
   "source": [
    "rating_matrix = ratings.pivot(index='userId', columns='movieId', values='rating')\n",
    "n_users, n_movies = rating_matrix.shape\n",
    "\n",
    "# Scaling ratings to between 0 and 1, this helps our model by constraining predictions\n",
    "min_rating, max_rating = ratings['rating'].min(), ratings['rating'].max()\n",
    "rating_matrix = (rating_matrix - min_rating) / (max_rating - min_rating)\n",
    "\n",
    "# Replacing missing ratings with -1 so we can filter them out later\n",
    "rating_matrix[rating_matrix.isnull()] = -1\n",
    "rating_matrix = torch.FloatTensor(rating_matrix.values)"
   ]
  },
  {
   "cell_type": "markdown",
   "metadata": {},
   "source": [
    "Here I'm defining the model as a PyTorch module. Our model will return a value proportional to the posterior, given the parameters (our feature vectors).\n",
    "\n",
    "$$\n",
    "P(U, V, \\sigma) \\propto P(R \\mid U, V, \\sigma^2) P(U) P(V) P(\\sigma)\n",
    "$$\n",
    "\n",
    "I want to actually use the log probabilities for all these because the products become sums and we can avoid problems with floating point precision due to some probabilites being very close to zero or one. So the model returns\n",
    "\n",
    "$$\n",
    "    p = \\log P(R \\mid U, V, \\sigma^2) + \\log P(U) + \\log P(V) + \\log P(\\sigma)\n",
    "$$\n",
    "\n",
    "I also put a prior on $\\sigma$, the prediction error, as it helps with finding the best feature vectors. I also tried placing priors on $\\sigma_u$ and $\\sigma_v$ but I couldn't get the training to converge using SGD. The authors of the PMT paper used expectation maximation to optimize $\\sigma_u$ and $\\sigma_v$ so I'm guessing they ran into a similar problem. I didn't implement that part of the paper, so there are improvements to my code here.\n",
    "\n",
    "We can use PyTorch's `distributions` module to calculate log probabilities for our model. Then we just sum up the likelihood and priors for each of our parameters."
   ]
  },
  {
   "cell_type": "code",
   "execution_count": 5,
   "metadata": {},
   "outputs": [],
   "source": [
    "from torch.distributions import Normal, HalfNormal\n",
    "\n",
    "class PMFLoss(torch.nn.Module):\n",
    "    def __init__(self, sigma_u=0.3, sigma_v=0.3):\n",
    "        super().__init__()\n",
    "        self.sigma = torch.tensor([1.], requires_grad=True)\n",
    "        self.sigma_u = sigma_u\n",
    "        self.sigma_v = sigma_v\n",
    "    \n",
    "    def forward(self, matrix, u_features, v_features):\n",
    "\n",
    "        predicted = torch.sigmoid(torch.mm(u_features, v_features.t()))\n",
    "        likelihood = Normal(predicted, self.sigma)\n",
    "        llh = likelihood.log_prob(matrix) #log-likelihood\n",
    "        \n",
    "        # We only want to sum up the likelihood where we actually have data\n",
    "        # so set all missing data to 0 before we sum\n",
    "        non_zero_mask = (matrix != -1).type(torch.FloatTensor)\n",
    "        total_llh = torch.sum(llh * non_zero_mask)\n",
    "\n",
    "        u_prior = Normal(0, self.sigma_u)\n",
    "        v_prior = Normal(0, self.sigma_v)\n",
    "        logp_u = u_prior.log_prob(u_features).sum()\n",
    "        logp_v = v_prior.log_prob(v_features).sum()\n",
    "        \n",
    "        logp_sig = HalfNormal(100.).log_prob(self.sigma).sum()\n",
    "        \n",
    "        return (total_llh + logp_u + logp_v + logp_sig)"
   ]
  },
  {
   "cell_type": "code",
   "execution_count": 6,
   "metadata": {},
   "outputs": [
    {
     "name": "stdout",
     "output_type": "stream",
     "text": [
      "Step 0, 8585.745\n",
      "Step 50, -109049.531\n",
      "Step 100, -165917.859\n",
      "Step 150, -174563.375\n",
      "Step 200, -176913.188\n",
      "Step 250, -177872.328\n",
      "Step 300, -178502.625\n",
      "Step 350, -178917.453\n",
      "Step 400, -179248.922\n",
      "Step 450, -179598.094\n",
      "Step 500, -179811.031\n",
      "Step 550, -179658.922\n",
      "Step 600, -180062.516\n",
      "Step 650, -180042.797\n",
      "Step 700, -180428.688\n",
      "Step 750, -180534.766\n",
      "Step 800, -180664.047\n",
      "Step 850, -180735.406\n",
      "Step 900, -180906.047\n",
      "Step 950, -180980.672\n"
     ]
    }
   ],
   "source": [
    "# Actual training loop now\n",
    "\n",
    "# Defining the user and movie feature vectors. The number of latent features\n",
    "# is arbitrary. The more vectors you use, the better your predictions will be\n",
    "# but the slower the model trains.\n",
    "latent_vectors = 30\n",
    "user_features = torch.randn(n_users, latent_vectors, requires_grad=True)\n",
    "user_features.data.mul_(0.01) \n",
    "movie_features = torch.randn(n_movies, latent_vectors, requires_grad=True)\n",
    "movie_features.data.mul_(0.01)\n",
    "\n",
    "pmferror = PMFLoss()\n",
    "optimizer = torch.optim.Adam([user_features, movie_features, pmferror.sigma], lr=0.03)\n",
    "epochs = 1000\n",
    "for step in range(epochs):\n",
    "    optimizer.zero_grad()\n",
    "    # SGD minimizes, but we want to maximize the posterior probability so negate it!\n",
    "    loss = -pmferror(rating_matrix, user_features, movie_features)\n",
    "    loss.backward()\n",
    "    optimizer.step()\n",
    "    if step % 50 == 0:\n",
    "        print(f\"Step {step}, {loss:.3f}\")"
   ]
  },
  {
   "cell_type": "markdown",
   "metadata": {},
   "source": [
    "With our model trained, we can use the learned feature vectors to predict ratings for users. As an example, here I'm testing to see if our model can accurately predict existing ratings for one user."
   ]
  },
  {
   "cell_type": "code",
   "execution_count": 7,
   "metadata": {},
   "outputs": [
    {
     "name": "stdout",
     "output_type": "stream",
     "text": [
      "Predictions: \n",
      " tensor([4., 4., 4., 4., 3., 4., 5., 4., 3., 3., 4., 5., 3., 4., 3., 1., 5., 5.,\n",
      "        3., 2., 3., 3., 3., 2., 3., 4., 2., 3., 4., 4., 5., 3., 5., 4., 3., 4.,\n",
      "        3., 5., 3., 5., 5., 5., 3., 3.], grad_fn=<RoundBackward>)\n",
      "Truth: \n",
      " tensor([4., 4., 4., 4., 3., 4., 5., 4., 3., 3., 4., 5., 3., 4., 3., 1., 5., 5.,\n",
      "        3., 2., 3., 3., 3., 2., 3., 4., 2., 3., 4., 4., 5., 3., 5., 4., 3., 4.,\n",
      "        3., 5., 3., 5., 5., 5., 3., 3.])\n"
     ]
    }
   ],
   "source": [
    "# Checking if our model can reproduce the true user ratings\n",
    "user_idx = 4\n",
    "user_ratings = rating_matrix[user_idx, :]\n",
    "true_ratings = user_ratings != -1\n",
    "predictions = torch.sigmoid(torch.mm(user_features[user_idx, :].view(1, -1), movie_features.t()))\n",
    "predicted_ratings = (predictions.squeeze()[true_ratings]*(max_rating - min_rating) + min_rating).round()\n",
    "actual_ratings = (user_ratings[true_ratings]*(max_rating - min_rating) + min_rating).round()\n",
    "\n",
    "print(\"Predictions: \\n\", predicted_ratings)\n",
    "print(\"Truth: \\n\", actual_ratings)"
   ]
  },
  {
   "cell_type": "markdown",
   "metadata": {},
   "source": [
    "There's a lot more you can do with this. As I noted above, the authors of the original paper extended the model to set priors on $\\sigma_u$ and $\\sigma_v$ and built a hierarchical model for the user vectors to improve predictions for users with few ratings. You can also use cosine similarity or other measures to identify similar users or movies. I believe in general you'd want to use this model in an ensemble with other collaborative filtering models for best results."
   ]
  }
 ],
 "metadata": {
  "kernelspec": {
   "display_name": "Python 3",
   "language": "python",
   "name": "python3"
  },
  "language_info": {
   "codemirror_mode": {
    "name": "ipython",
    "version": 3
   },
   "file_extension": ".py",
   "mimetype": "text/x-python",
   "name": "python",
   "nbconvert_exporter": "python",
   "pygments_lexer": "ipython3",
   "version": "3.6.8"
  }
 },
 "nbformat": 4,
 "nbformat_minor": 2
}
